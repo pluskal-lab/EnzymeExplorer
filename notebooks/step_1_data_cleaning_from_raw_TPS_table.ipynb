{
 "cells": [
  {
   "cell_type": "code",
   "execution_count": 1,
   "id": "75e8ed10",
   "metadata": {},
   "outputs": [],
   "source": [
    "import pandas as pd\n",
    "import numpy as np\n",
    "from indigo import Indigo\n",
    "import pickle\n",
    "from pathlib import Path\n",
    "from openpyxl import load_workbook\n",
    "from rdkit import Chem"
   ]
  },
  {
   "cell_type": "markdown",
   "id": "7de907c1",
   "metadata": {},
   "source": [
    "# Inputs"
   ]
  },
  {
   "cell_type": "markdown",
   "id": "67903762",
   "metadata": {},
   "source": [
    "### A dictionary mapping the excel substrates to SMILES"
   ]
  },
  {
   "cell_type": "code",
   "execution_count": 2,
   "id": "e17ec315",
   "metadata": {},
   "outputs": [],
   "source": [
    "name_2_smiles_orig = {'(2E,6E)-FPP': 'CC(C)=CCC\\\\C(C)=C\\\\CC\\\\C(C)=C\\\\COP([O-])(=O)OP([O-])([O-])=O',\n",
    " '(2E,6E,10E)-GGPP': 'CC(C)=CCC\\\\C(C)=C\\\\CC\\\\C(C)=C\\\\CC\\\\C(C)=C\\\\COP([O-])(=O)OP([O-])([O-])=O',\n",
    " '(+)-copalyl diphosphate': '[H][C@@]12CCC(=C)[C@H](CC\\\\C(C)=C\\\\COP([O-])(=O)OP([O-])([O-])=O)[C@@]1(C)CCCC2(C)C',\n",
    " '(2E,6E)-FPP; isopentenyl PP': 'CC(C)=CCC\\\\C(C)=C\\\\CC\\\\C(C)=C\\\\COP([O-])(=O)OP([O-])([O-])=O.CC(=C)CCOP(=O)(O)OP(=O)(O)O',\n",
    " '(2E)-GPP; isopentenyl PP': 'CC(C)=CCC\\\\C(C)=C\\\\COP([O-])(=O)OP([O-])([O-])=O.CC(=C)CCOP(=O)(O)OP(=O)(O)O',\n",
    " 'dimethylallyl PP; isopentenyl PP': 'CC(=CCOP(=O)([O-])OP(=O)([O-])[O-])C.CC(=C)CCOP(=O)(O)OP(=O)(O)O',\n",
    " '(2E)-GPP': 'CC(C)=CCC\\\\C(C)=C\\\\COP([O-])(=O)OP([O-])([O-])=O',\n",
    " 'ent-copalyl diphosphate': '[C@@H]1(CC/C(/C)=C/COP(OP(=O)([O-])[O-])(=O)[O-])C(=C)CC[C@]2([C@@]1(C)CCCC2(C)C)[H]',\n",
    " '(2Z,6E)-FPP': 'CC(C)=CCC\\\\C(C)=C\\\\CC\\\\C(C)=C/COP([O-])(=O)OP([O-])([O-])=O',\n",
    " '(S)-2,3-epoxysqualene': 'CC(C)=CCC\\\\C(C)=C\\\\CC\\\\C(C)=C\\\\CC\\\\C=C(/C)CC\\\\C=C(/C)CC[C@@H]1OC1(C)C',\n",
    " 'peregrinol PP': '[C@@]1(CC/C(/C)=C/COP(OP(=O)([O-])[O-])(=O)[O-])([C@@H](CC[C@@]2([C@]1(C)CCCC2(C)C)[H])C)O',\n",
    " 'copal-8-ol diphosphate(3−)': '[H][C@@]12CC[C@@](C)(O)[C@H](CC\\\\C(C)=C\\\\COP([O-])(=O)OP([O-])([O-])=O)[C@@]1(C)CCCC2(C)C',\n",
    " 'NPP': 'CC(=CCC/C(=C\\\\COP(=O)(O)OP(=O)(O)O)/C)C',\n",
    " '9α-copalyl PP': '[H][C@@]12CCC(=C)[C@@H](CC\\\\C(C)=C\\\\COP([O-])(=O)OP([O-])([O-])=O)[C@@]1(C)CCCC2(C)C',\n",
    " '(2Z,6Z)-FPP': 'CC(C)=CCC\\\\C(C)=C/CC\\\\C(C)=C/COP([O-])(=O)OP([O-])([O-])=O',\n",
    " 'ent-copal-8-ol diphosphate(3−)': '[C@@H]1(CC/C(/C)=C/COP(OP(=O)([O-])[O-])(=O)[O-])[C@](CC[C@]2([C@@]1(C)CCCC2(C)C)[H])(O)C',\n",
    " '9α-copalyl diphosphate': '[H][C@@]12CCC(=C)[C@@H](CC\\\\C(C)=C\\\\COP([O-])(=O)OP([O-])([O-])=O)[C@@]1(C)CCCC2(C)C',\n",
    " '(2E,6E,10E,14E)-GFPP': 'CC(C)=CCC\\\\C(C)=C\\\\CC\\\\C(C)=C\\\\CC\\\\C(C)=C\\\\CC\\\\C(C)=C\\\\COP([O-])(=O)OP([O-])([O-])=O',\n",
    " '(R)-tetraprenyl-β-curcumene': 'C[C@H](CC\\\\C=C(/C)CC\\\\C=C(/C)CC\\\\C=C(/C)CC\\\\C=C(/C)CCC=C(C)C)C1=CCC(C)=CC1',\n",
    " '(E)-2-MeGPP': 'CC(C)=CCC\\\\C(C)=C(/C)COP([O-])(=O)OP([O-])([O-])=O',\n",
    " 'dimethylallyl PP; 4 isopentenyl PP': 'CC(=C)CCOP(=O)(O)OP(=O)(O)O.CC(=C)CCOP(=O)(O)OP(=O)(O)O.CC(=C)CCOP(=O)(O)OP(=O)(O)O.CC(=C)CCOP(=O)(O)OP(=O)(O)O.CC(=CCOP(=O)([O-])OP(=O)([O-])[O-])C',\n",
    " '(3S,22S)-2,3:22,23-diepoxy-2,3,22,23-tetrahydrosqualene': 'C(C/C=C(/CC/C=C(/CC[C@H]1C(O1)(C)C)\\\\C)\\\\C)/C=C(/CC/C=C(/CC[C@H]2C(O2)(C)C)\\\\C)\\\\C',\n",
    " 'pre-α-onocerin': 'C1C[C@@H](C([C@]2([C@]1([C@H](C(CC2)=C)CC/C=C(/CC/C=C(/CC[C@H]3C(O3)(C)C)\\\\C)\\\\C)C)[H])(C)C)O',\n",
    " 'dimethylallyl PP': 'CC(=CCOP(=O)([O-])OP(=O)([O-])[O-])C',\n",
    " '(R,R)-chrysanthemyl diphosphate': 'CC(C)=C[C@@H]1[C@@H](COP([O-])(=O)OP([O-])([O-])=O)C1(C)C',\n",
    " '(R)-lavandulyl diphosphate(3−)': 'C(=CC[C@@H](COP([O-])(=O)OP(=O)([O-])[O-])C(C)=C)(C)C',\n",
    " 'PPP': 'CC(C)CCC[C@@H](C)CCC[C@@H](C)CCC\\\\C(C)=C\\\\COP([O-])(=O)OP([O-])([O-])=O',\n",
    " 'HexPP': 'CC(C)=CCC\\\\C(C)=C\\\\CC\\\\C(C)=C\\\\CC\\\\C(C)=C\\\\CC\\\\C(C)=C\\\\CC\\\\C(C)=C\\\\COP([O-])(=O)OP([O-])([O-])=O',\n",
    " 'HepPP': 'CC(C)=CCC\\\\C(C)=C\\\\CC\\\\C(C)=C\\\\CC\\\\C(C)=C\\\\CC\\\\C(C)=C\\\\CC\\\\C(C)=C\\\\CC\\\\C(C)=C\\\\COP([O-])(=O)OP([O-])([O-])=O',\n",
    " 'presqualene PP': 'CC(C)=CCC\\\\C(C)=C\\\\CC\\\\C(C)=C\\\\[C@H]1[C@H](COP([O-])(=O)OP([O-])([O-])=O)[C@@]1(C)CC\\\\C=C(/C)CCC=C(C)C',\n",
    " 'isopentenyl PP; (2E,6E,10E)-GGPP': 'CC(C)=CCC\\\\C(C)=C\\\\CC\\\\C(C)=C\\\\CC\\\\C(C)=C\\\\COP([O-])(=O)OP([O-])([O-])=O.CC(=C)CCOP(=O)(O)OP(=O)(O)O',\n",
    " 'isopentenyl PP; (2E,6E)-FPP': 'CC(C)=CCC\\\\C(C)=C\\\\CC\\\\C(C)=C\\\\COP([O-])(=O)OP([O-])([O-])=O.CC(=C)CCOP(=O)(O)OP(=O)(O)O',\n",
    " 'isopentenyl PP; (2E)-GPP': 'CC(C)=CCC\\\\C(C)=C\\\\COP([O-])(=O)OP([O-])([O-])=O.CC(=C)CCOP(=O)(O)OP(=O)(O)O',\n",
    " 'prephytoene PP': 'CC(C)=CCC\\\\C(C)=C\\\\CC\\\\C(C)=C\\\\CC\\\\C(C)=C\\\\C1C(COP(O)(=O)OP(O)(O)=O)C1(C)CC\\\\C=C(/C)CC\\\\C=C(/C)CCC=C(C)C',\n",
    " '(2E,6E,10E)-GGPP; isopentenyl PP': 'CC(C)=CCC\\\\C(C)=C\\\\CC\\\\C(C)=C\\\\CC\\\\C(C)=C\\\\COP([O-])(=O)OP([O-])([O-])=O.CC(=C)CCOP(=O)(O)OP(=O)(O)O',\n",
    " 'Unknown': 'Unknown',\n",
    " 'isopentenyl PP': 'CC(=C)CCOP(=O)(O)OP(=O)(O)O',\n",
    " 'γ-carotene': 'CC1=C(C(CCC1)(C)C)C=CC(=CC=CC(=CC=CC=C(C)C=CC=C(C)C=CC=C(C)CCC=C(C)C)C)C'}"
   ]
  },
  {
   "cell_type": "markdown",
   "id": "683132c9",
   "metadata": {},
   "source": [
    "### The main excel table."
   ]
  },
  {
   "cell_type": "code",
   "execution_count": 3,
   "id": "2d49b406",
   "metadata": {},
   "outputs": [],
   "source": [
    "df_main = pd.read_excel('../data/TPS-database_Nov19_23.xlsx')"
   ]
  },
  {
   "cell_type": "code",
   "execution_count": 4,
   "id": "2fae8d8a",
   "metadata": {},
   "outputs": [
    {
     "data": {
      "text/plain": [
       "Index(['Uniprot ID', 'Name', 'Amino acid sequence', 'Species',\n",
       "       'Kingdom (plant, fungi, bacteria)', 'Type (mono, sesq, di, …)',\n",
       "       'Class (I or II)', 'Substrate (including stereochemistry)',\n",
       "       'Substrate ChEBI ID', 'Cofactors', 'Name of product', 'Product %',\n",
       "       'Product is major', 'Chemical formula of product',\n",
       "       'SMILES of product (including stereochemistry)', 'Product ChEBI ID',\n",
       "       'Cyclase', 'Fragment', 'Experimentally characterized', 'Reaction',\n",
       "       'Notes', 'Publication'],\n",
       "      dtype='object')"
      ]
     },
     "execution_count": 4,
     "metadata": {},
     "output_type": "execute_result"
    }
   ],
   "source": [
    "df_main.columns"
   ]
  },
  {
   "cell_type": "markdown",
   "id": "e1ea0f46",
   "metadata": {},
   "source": [
    "### Cleaning the database based on manual comments about the entries."
   ]
  },
  {
   "cell_type": "code",
   "execution_count": 5,
   "id": "566ebd6d",
   "metadata": {},
   "outputs": [],
   "source": [
    "workbook = load_workbook('../data/TPS-database_Nov19_23.xlsx')\n",
    "sheet1 = workbook.sheetnames[0]\n",
    "worksheet = workbook[sheet1]\n",
    "\n",
    "blacklisted_not_characterized = set()\n",
    "for row in worksheet.iter_rows():\n",
    "    cell = row[0]\n",
    "    if cell.comment:\n",
    "        if ('not characterized' in cell.comment.text or 'not characetrized' in cell.comment.text or \n",
    "        'could not verify' in cell.comment.text or 'not find' in cell.comment.text or \n",
    "            'ques-tion mark also remains over the direct products' in cell.comment.text\n",
    "           or 'wrongly annotated' in cell.comment.text or 'full length protein was not active' in cell.comment.text):\n",
    "            blacklisted_not_characterized.add(cell.value)"
   ]
  },
  {
   "cell_type": "code",
   "execution_count": 6,
   "id": "a86eb62c",
   "metadata": {},
   "outputs": [],
   "source": [
    "df_main = df_main[~df_main['Uniprot ID'].isin(blacklisted_not_characterized)]"
   ]
  },
  {
   "cell_type": "code",
   "execution_count": 7,
   "id": "cd582e92",
   "metadata": {},
   "outputs": [
    {
     "data": {
      "text/plain": [
       "Uniprot ID                                          0\n",
       "Name                                               55\n",
       "Amino acid sequence                                 8\n",
       "Species                                             4\n",
       "Kingdom (plant, fungi, bacteria)                    3\n",
       "Type (mono, sesq, di, …)                            5\n",
       "Class (I or II)                                  2257\n",
       "Substrate (including stereochemistry)              15\n",
       "Substrate ChEBI ID                                 26\n",
       "Cofactors                                        2180\n",
       "Name of product                                     7\n",
       "Product %                                        1700\n",
       "Product is major                                 2167\n",
       "Chemical formula of product                        29\n",
       "SMILES of product (including stereochemistry)      26\n",
       "Product ChEBI ID                                   42\n",
       "Cyclase                                            97\n",
       "Fragment                                         2369\n",
       "Experimentally characterized                       29\n",
       "Reaction                                         2181\n",
       "Notes                                            1738\n",
       "Publication                                        82\n",
       "dtype: int64"
      ]
     },
     "execution_count": 7,
     "metadata": {},
     "output_type": "execute_result"
    }
   ],
   "source": [
    "df_main.isnull().sum()"
   ]
  },
  {
   "cell_type": "code",
   "execution_count": 8,
   "id": "06af2063",
   "metadata": {},
   "outputs": [],
   "source": [
    "df_main.loc[df_main['Type (mono, sesq, di, …)'] == 'Negative', 'Substrate (including stereochemistry)'] = 'Negative'\n",
    "name_2_smiles_orig.update({'Negative' : 'Negative'})"
   ]
  },
  {
   "cell_type": "code",
   "execution_count": 9,
   "id": "311e298e",
   "metadata": {},
   "outputs": [],
   "source": [
    "df_main['OK row flag'] = ~df_main[['Amino acid sequence', 'Substrate (including stereochemistry)', 'SMILES of product (including stereochemistry)']].isnull().any(axis=1).astype(int)\n",
    "df_main.loc[~df_main['Fragment'].isnull(), 'OK row flag'] = 0"
   ]
  },
  {
   "cell_type": "code",
   "execution_count": 10,
   "id": "740c58fd",
   "metadata": {},
   "outputs": [],
   "source": [
    "df_main['SMILES of substrate'] = df_main['Substrate (including stereochemistry)'].map(name_2_smiles_orig)\n",
    "df_main['SMILES of substrate'] = df_main['SMILES of substrate'].fillna('Unknown')"
   ]
  },
  {
   "cell_type": "code",
   "execution_count": 11,
   "id": "4e8baa3e",
   "metadata": {},
   "outputs": [],
   "source": [
    "name_2_smiles_additional = {'(2E,6E)-FPP + IPP': 'CC(C)=CCC\\\\C(C)=C\\\\CC\\\\C(C)=C\\\\COP([O-])(=O)OP([O-])([O-])=O.CC(=C)CCOP([O-])(=O)OP([O-])([O-])=O', \n",
    "                            '(2E)-GPP + IPP' : 'CC(C)=CCC\\\\C(C)=C\\\\COP([O-])(=O)OP([O-])([O-])=O.CC(=C)CCOP([O-])(=O)OP([O-])([O-])=O', \n",
    "                            'dimethylallyl PP+ IPP': 'CC(=CCOP(=O)([O-])OP(=O)([O-])[O-])C.CC(=C)CCOP(=O)(O)OP(=O)(O)O',\n",
    "                            'squalene':'CC(C)=CCC\\C(C)=C\\CC\\C(C)=C\\CC\\C=C(/C)CC\\C=C(/C)CCC=C(C)C',\n",
    "                            '(13E)-labda-7,13-dien-15-yl PP':'[C@H]1(CC/C(/C)=C/COP(OP(=O)(O)O)(=O)O)C(C)=CC[C@@]2([C@]1(C)CCCC2(C)C)[H]',\n",
    "                            'all-trans-lycopene':'CC(C)=CCC\\C(C)=C\\C=C\\C(C)=C\\C=C\\C(C)=C\\C=C\\C=C(C)\\C=C\\C=C(C)\\C=C\\C=C(/C)CCC=C(C)C',\n",
    "                            'dimethylallyl PP + isopentenyl PP': 'CC(=CCOP(=O)([O-])OP(=O)([O-])[O-])C.CC(=C)CCOP(=O)(O)OP(=O)(O)O',\n",
    "                            '(2E,6E)-FPP;  isopentenyl PP': 'CC(C)=CCC\\\\C(C)=C\\\\CC\\\\C(C)=C\\\\COP([O-])(=O)OP([O-])([O-])=O.CC(=C)CCOP([O-])(=O)OP([O-])([O-])=O',\n",
    "                            '(2E,6E)-FPP ': 'CC(C)=CCC\\\\C(C)=C\\\\CC\\\\C(C)=C\\\\COP([O-])(=O)OP([O-])([O-])=O',\n",
    "                            'GGPP': 'CC(C)=CCC\\\\C(C)=C\\\\CC\\\\C(C)=C\\\\CC\\\\C(C)=C\\\\COP([O-])(=O)OP([O-])([O-])=O', \n",
    "                            'syn-CPP': 'C/C(=C\\COP(=O)(O)OP(=O)(O)O)/CC[C@@H]1C(=C)CC[C@H]2[C@]1(CCCC2(C)C)C', \n",
    "                            'CPP': 'C/C(=C\\COP(=O)(O)OP(=O)(O)O)/CC[C@@H]1C(=C)CC[C@H]2[C@]1(CCCC2(C)C)C'}\n",
    "name_2_smiles_orig.update(name_2_smiles_additional)"
   ]
  },
  {
   "cell_type": "code",
   "execution_count": 12,
   "id": "a76e865b",
   "metadata": {},
   "outputs": [],
   "source": [
    "df_main['SMILES of substrate'] = df_main['Substrate (including stereochemistry)'].map(name_2_smiles_orig)\n",
    "df_main = df_main[np.logical_not(df_main['SMILES of substrate'].isnull()) | (df_main['Type (mono, sesq, di, …)'] == 'Negative')]"
   ]
  },
  {
   "cell_type": "markdown",
   "id": "ec947f48",
   "metadata": {},
   "source": [
    "### Adding hard negatives (single-point mutants without TPS activity)"
   ]
  },
  {
   "cell_type": "code",
   "execution_count": 13,
   "id": "87cae9b6",
   "metadata": {},
   "outputs": [],
   "source": [
    "col_2_vals ={'Uniprot ID':['Q9PDX7', \n",
    "            'P0C0L4', \n",
    "            'P06238', \n",
    "            'P20742', \n",
    "            'Q9GYW4'],\n",
    "             'Amino acid sequence': [''.join(\"\"\"MRDRVAMMLRPLVRGWIPRAVLLLTVAFSFGCNRNHNGQLPQSSGEPVAVAKEPVKGFVL\n",
    "VRAYPDQHDGELALALEFSQPLAATQEFDTLVRLEQDSGNHDGGWSLSDDAKTLRYPYVE\n",
    "ADKHYTVLISAGLLAATGSRLGKPRKEPVYTGELDPVVGFASRGSILPARGSRGVPVVSV\n",
    "NVPEVDVEFMRVREKALPAFLARYHKAGQRSSWELSNQGNSRKRLSELADPVYVTRFVLD\n",
    "GKKNERALTYLPIQSIRELREPGLYFAVMKPTGSFSDAFETAFFSVSNIGLHTRAYKDKL\n",
    "FVHTASLRSGNPYKQVDLLVLDAKGETVLQGATDDNGNALLNYTLNAGHVLVSRNGRDIS\n",
    "ILPFNQPALDLSEFAVAGRENPWFDVFAWSGRDLYRPGETLRISALLRDRDGKPVKPQPV\n",
    "FLRLKQPDGKTFRETRLQPAEQGYLEFTQKIPSDAPTGRWRVEFRTDPASKEAVQGLAVR\n",
    "VEEFLPERMKLELSSAQPVLRAKAPFTLTADAAYLYGAPAAGNRFTANLAVAVEQHPLDN\n",
    "MPGWFFGDATLQLPRGAKETIDITLGADGHLVHDIVLPEEAKPVSPMAVVVSGSVYESGG\n",
    "RPVTRSLKRVLWPADALVGVRPLFDVASGADANGMARFELTRVGVDGKPQSAKGLKATLV\n",
    "RELRDYHWRYSDGRWDYDFTRRFENKETRTVDISTSHTTTLALPVEWGDYRLEVFDPVTG\n",
    "LTMRYPFRAGWSWGDDNRGLDARPDKVKLALDKTSYRAGDTLKVTITPPHPGKGLLLVES\n",
    "DKPLYVQAIDANPSTTLEIPVTADWERHDVYVTALVFRGGSASNNTTPARAVGEVYVPMQ\n",
    "RKDRRVAVGLVVPKQMRPAQSLPVTVSVPELAGKQAHVTISAVDAGILNITGFPVPDAAA\n",
    "HFFAQRRLSVDAYDIYGRVIESFEGGTGRLKFGGDMALPPLPQAKRPTARSQTVDLFSGA\n",
    "VKLDAKGNAHIQLPVPDFNGALRVSALVYSDTRYGQRDAETVVRAPILAEASMPRVMAPG\n",
    "DRSTVTVDVQNFTGKQGKFAVKVEGVGPLAVAEAGRSVTLGIDGKTTLNFPLRALEGNSV\n",
    "AQVRVRVEGNGSKAERHYDLPVRAAWPQGLRTQAHVLNVLAPIAFDPALAKGLMPDSVNA\n",
    "RLSVSALAPIPFASVLQGVFEYPYGCAEQTASKGYAALWLDDATIKSLGIHGVTPAQRLE\n",
    "RLEGALGRLASLQTMNGHFSMCGGNSDVNPVLTPYIAGFLLDAKDAGFAVSDAVLQKALN\n",
    "RLSEDLLSGAHLFYGNDQSEALMFAHQAWSGYVLARVNRAPLGTLRTLYDNERGKAVSGL\n",
    "SLVHLGVALSLQGDRKRGEAAIEAGFAKSEGGRPEVFGDYGSVIRDNALMIALVRAHGLA\n",
    "KPAYEARVMALGRDLEARRRSGWLWLSTQEQVALAQLGRALLVDQKKQVSGTLYVGKQRE\n",
    "EIAASRLIGRSFDAAALARGVRFVPQGDVPLYASFEVAGIPRQAPVSDDSQLLVVRRWYT\n",
    "VDGKPWTPGPLKEGQALIVRVSVTSKQNMPDALLTDLLPAGLEIDNFNLGETRQWADVTV\n",
    "DGIALSERANAADIKHEEFRDDRYVAMLQLTGGRTANLFYLVRAVTPGTYKVPPSLVEDM\n",
    "YRPALRGTGRVAPATVTVVQP\"\"\".split()), ''.join(\"\"\"MRLLWGLIWASSFFTLSLQKPRLLLFSPSVVHLGVPLSVGVQLQDVPRGQVVKGSVFLRN\n",
    "PSRNNVPCSPKVDFTLSSERDFALLSLQVPLKDAKSCGLHQLLRGPEVQLVAHSPWLKDS\n",
    "LSRTTNIQGINLLFSSRRGHLFLQTDQPIYNPGQRVRYRVFALDQKMRPSTDTITVMVEN\n",
    "SHGLRVRKKEVYMPSSIFQDDFVIPDISEPGTWKISARFSDGLESNSSTQFEVKKYVLPN\n",
    "FEVKITPGKPYILTVPGHLDEMQLDIQARYIYGKPVQGVAYVRFGLLDEDGKKTFFRGLE\n",
    "SQTKLVNGQSHISLSKAEFQDALEKLNMGITDLQGLRLYVAAAIIESPGGEMEEAELTSW\n",
    "YFVSSPFSLDLSKTKRHLVPGAPFLLQALVREMSGSPASGIPVKVSATVSSPGSVPEVQD\n",
    "IQQNTDGSGQVSIPIIIPQTISELQLSVSAGSPHPAIARLTVAAPPSGGPGFLSIERPDS\n",
    "RPPRVGDTLNLNLRAVGSGATFSHYYYMILSRGQIVFMNREPKRTLTSVSVFVDHHLAPS\n",
    "FYFVAFYYHGDHPVANSLRVDVQAGACEGKLELSVDGAKQYRNGESVKLHLETDSLALVA\n",
    "LGALDTALYAAGSKSHKPLNMGKVFEAMNSYDLGCGPGGGDSALQVFQAAGLAFSDGDQW\n",
    "TLSRKRLSCPKEKTTRKKRNVNFQKAINEKLGQYASPTAKRCCQDGVTRLPMMRSCEQRA\n",
    "ARVQQPDCREPFLSCCQFAESLRKKSRDKGQAGLQRALEILQEEDLIDEDDIPVRSFFPE\n",
    "NWLWRVETVDRFQILTLWLPDSLTTWEIHGLSLSKTKGLCVATPVQLRVFREFHLHLRLP\n",
    "MSVRRFEQLELRPVLYNYLDKNLTVSVHVSPVEGLCLAGGGGLAQQVLVPAGSARPVAFS\n",
    "VVPTAAAAVSLKVVARGSFEFPVGDAVSKVLQIEKEGAIHREELVYELNPLDHRGRTLEI\n",
    "PGNSDPNMIPDGDFNSYVRVTASDPLDTLGSEGALSPGGVASLLRLPRGCGEQTMIYLAP\n",
    "TLAASRYLDKTEQWSTLPPETKDHAVDLIQKGYMRIQQFRKADGSYAAWLSRDSSTWLTA\n",
    "FVLKVLSLAQEQVGGSPEKLQETSNWLLSQQQADGSFQDPCPVLDRSMQGGLVGNDETVA\n",
    "LTAFVTIALHHGLAVFQDEGAEPLKQRVEASISKANSFLGEKASAGLLGAHAAAITAYAL\n",
    "TLTKAPVDLLGVAHNNLMAMAQETGDNLYWGSVTGSQSNAVSPTPAPRNPSDPMPQAPAL\n",
    "WIETTAYALLHLLLHEGKAEMADQASAWLTRQGSFQGGFRSTQDTVIALDALSAYWIASH\n",
    "TTEERGLNVTLSSTGRNGFKSHALQLNNRQIRGLEEELQFSLGSKINVKVGGNSKGTLKV\n",
    "LRTYNVLDMKNTTCQDLQIEVTVKGHVEYTMEANEDYEDYEYDELPAKDDPDAPLQPVTP\n",
    "LQLFEGRRNRRRREAPKVVEEQESRVHYTVCIWRNGKVGLSGMAIADVTLLSGFHALRAD\n",
    "LEKLTSLSDRYVSHFETEGPHVLLYFDSVPTSRECVGFEAVQEVPVGLVQPASATLYDYY\n",
    "NPERRCSVFYGAPSKSRLLATLCSAEVCQCAEGKCPRQRRALERGLQDEDGYRMKFACYY\n",
    "PRVEYGFQVKVLREDSRAAFRLFETKITQVLHFTKDVKAAANQMRNFLVRASCRLRLEPG\n",
    "KEYLIMGLDGATYDLEGHPQYLLDSNSWIEEMPSERLCRSTRQRAACAQLNDFLQEYGTQ\n",
    "GCQV\"\"\".split()), ''.join(\"\"\"MGKHRLRSLALLPLLLRLLLLLLPTDASAPQKPIYMVMVPSLLHAGTPEKACFLFSHLNE\n",
    "TVAVRVSLESVRGNQSLFTDLVVDKDLFHCTSFTVPQSSSDEVMFFTVQVKGATHEFRRR\n",
    "STVLVKKKESLVFAQTDKPIYKPGQTVRFRVVSLDESFHPLNELIPLLYIQDPKNNRIAQ\n",
    "WQNFNLEGGLKQLSFPLSSEPTQGSYKVVIRTESGRTVEHPFSVEEFVLPKFEVRVTVPE\n",
    "TITILEEEMNVSVCGIYTYGKPVPGRVTVNICRKYSNPSNCFGEESVAFCEKLSQQLDGR\n",
    "GCFSQLVKTKSFQLKRQEYEMQLDVHAKIQEEGTGVEETGKGLTKITRTITKLSFVNVDS\n",
    "HFRQGIPFVGQVLLVDGRGTPIPYETIFIGADEANLYINTTTDKHGLARFSINTDDIMGT\n",
    "SLTVRAKYKDSNACYGFRWLTEENVEAWHTAYAVFSPSRSFLHLESLPDKLRCDQTLEVQ\n",
    "AHYILNGEAMQELKELVFYYLMMAKGGIVRAGTHVLPLKQGQMRGHFSILISMETDLAPV\n",
    "ARLVLYAILPNGEVVGDTAKYEIENCLANKVDLVFRPNSGLPATRALLSVMASPQSLCGL\n",
    "RAVDQSVLLMKPETELSASLIYDLLPVKDLTGFPQGADQREEDTNGCVKQNDTYINGILY\n",
    "SPVQNTNEEDMYGFLKDMGLKVFTNSNIRKPKVCERLRDNKGIPAAYHLVSQSHMDAFLE\n",
    "SSESPTETRRSYFPETWIWDLVVVDSAGVAEVEVTVPDTITEWKAGAFCLSNDTGLGLSP\n",
    "VVQFQAFQPFFVELTMPYSVIRGEAFTLKATVLNYLPTCIRVAVQLEASPDFLAAPEEKE\n",
    "QRSHCICMNQRHTASWAVIPKSLGNVNFTVSAEALNSKELCGNEVPVVPEQGKKDTIIKS\n",
    "LLVEPEGLENEVTFNSLLCPMGAEVSELIALKLPSDVVEESARASVTVLGDILGSAMQNT\n",
    "QDLLKMPYGCGEQNMVLFAPNIYVLDYLNETQQLTQEIKTKAIAYLNTGYQRQLNYKHRD\n",
    "GSYSTFGDKPGRNHANTWLTAFVLKSFAQARKYIFIDEVHITQALLWLSQQQKDNGCFRS\n",
    "SGSLLNNAMKGGVEDEVTLSAYITIALLEMSLPVTHPVVRNALFCLDTAWKSARGGAGGS\n",
    "HVYTKALLAYAFALAGNQDTKKEILKSLDEEAVKEEDSVHWTRPQKPSVSVALWYQPQAP\n",
    "SAEVEMTAYVLLAYLTTEPAPTQEDLTAAMLIVKWLTKQQNSHGGFSSTQDTVVALHALS\n",
    "KYGSATFTRAKKAAQVTIHSSGTFSTKFQVNNNNQLLLQRVTLPTVPGDYTVKVTGEGCV\n",
    "YLQTSLKYSVLPREEEFPFTVVVQTLPGTCEDPKAHTSFQISLNISYTGSRSESNMAIAD\n",
    "VKMVSGFIPLKPTVKMLERSVHVSRTEVSNNHVLIYLDKVSNQTVNLSFTVQQDIPIRDL\n",
    "KPAVVKVYDYYEKDEFAVAKYSAPCSTDYGNA\"\"\".split()), ''.join('''MRKDRLLHLCLVLLLILLSASDSNSTEPQYMVLVPSLLHTEAPKKGCVLLSHLNETVTVS\n",
    "ASLESGRENRSLFTDLVAEKDLFHCVSFTLPRISASSEVAFLSIQIKGPTQDFRKRNTVL\n",
    "VLNTQSLVFVQTDKPMYKPGQTVRFRVVSVDENFRPRNELIPLIYLENPRRNRIAQWQSL\n",
    "KLEAGINQLSFPLSSEPIQGSYRVVVQTESGGRIQHPFTVEEFVLPKFEVKVQVPKIISI\n",
    "MDEKVNITVCGEYTYGKPVPGLATVSLCRKLSRVLNCDKQEVCEEFSQQLNSNGCITQQV\n",
    "HTKMLQITNTGFEMKLRVEARIREEGTDLEVTANRISEITNIVSKLKFVKVDSHFRQGIP\n",
    "FFAQVLLVDGKGVPIPNKLFFISVNDANYYSNATTNEQGLAQFSINTTSISVNKLFVRVF\n",
    "TVHPNLCFHYSWVAEDHQGAQHTANRVFSLSGSYIHLEPVAGTLPCGHTETITAHYTLNR\n",
    "QAMGELSELSFHYLIMAKGVIVRSGTHTLPVESGDMKGSFALSFPVESDVAPIARMFIFA\n",
    "ILPDGEVVGDSEKFEIENCLANKVDLSFSPAQSPPASHAHLQVAAAPQSLCALRAVDQSV\n",
    "LLMKPEAELSVSSVYNLLTVKDLTNFPDNVDQQEEEQGHCPRPFFIHNGAIYVPLSSNEA\n",
    "DIYSFLKGMGLKVFTNSKIRKPKSCSVIPSVSAGAVGQGYYGAGLGVVERPYVPQLGTYN\n",
    "VIPLNNEQSSGPVPETVRSYFPETWIWELVAVNSSGVAEVGVTVPDTITEWKAGAFCLSE\n",
    "DAGLGISSTASLRAFQPFFVELTMPYSVIRGEVFTLKATVLNYLPKCIRVSVQLKASPAF\n",
    "LASQNTKGEESYCICGNERQTLSWTVTPKTLGNVNFSVSAEAMQSLELCGNEVVEVPEIK\n",
    "RKDTVIKTLLVEAEGIEQEKTFSSMTCASGANVSEQLSLKLPSNVVKESARASFSVLGDI\n",
    "LGSAMQNIQNLLQMPYGCGEQNMVLFAPNIYVLNYLNETQQLTQEIKAKAVGYLITGYQR\n",
    "QLNYKHQDGSYSTFGERYGRNQGNTWLTAFVLKTFAQARSYIFIDEAHITQSLTWLSQMQ\n",
    "KDNGCFRSSGSLLNNAIKGGVEDEATLSAYVTIALLEIPLPVTNPIVRNALFCLESAWNV\n",
    "AKEGTHGSHVYTKALLAYAFSLLGKQNQNREILNSLDKEAVKEDNLVHWERPQRPKAPVG\n",
    "HLYQTQAPSAEVEMTSYVLLAYLTAQPAPTSGDLTSATNIVKWIMKQQNAQGGFSSTQDT\n",
    "VVALHALSRYGAATFTRTEKTAQVTVQDSQTFSTNFQVDNNNLLLLQQISLPELPGEYVI\n",
    "TVTGERCVYLQTSMKYNILPEKEDSPFALKVQTVPQTCDGHKAHTSFQISLTISYTGNRP\n",
    "ASNMVIVDVKMVSGFIPLKPTVKMLERSSSVSRTEVSNNHVLIYVEQVTNQTLSFSFMVL\n",
    "QDIPVGDLKPAIVKVYDYYETDESVVAEYIAPCSTDTEHGNV'''.split()), ''.join('''MWQFIRSRILTVIIFIGAAHGLLVVGPKFIRANQEYTLVISNFNSQLSKVDLLLKLEGET\n",
    "DNGLSVLNVTKMVDVRRNMNRMINFNMPEELTAGNYKITIDGQRGFSFHKEAELVYLSKS\n",
    "ISGLIQVDKPVFKPGDTVNFRVILLDTELKPPARVKSVYVTIRDPQRNVIRKWSTAKLYA\n",
    "GVFESDLQIVPTPMLGVWNISVEVEGEELVSKTFEVKEYVLSTFDVQVMPSVIPLEEHQA\n",
    "VNLTIEANYHFGKPVQGVAKVELYLDDDKLNQKKELTVYGKGQVELRFDNFAMDADQQDV\n",
    "RVKVSFIEQYTNRTVVKQSQITVYRYAYRVELIKESPQFRPGLPFKCALQFTHHDGTPAK\n",
    "GITGKVEVSDVGFETTTTSDNDGLIKLELQPSEGTEQLGINFNAVDGFFFYEDVNKVETV\n",
    "TDAYIKLELKSPIKRNKLMRFMVTCTERMTFFVYYVMSKGNIIDAGFMRPNKQTKYLLQL\n",
    "NATEKMIPKAKILIATVAGRTVVYDYADLDFQELRNNFDLSIDEQEIKPGRQIELSMSGR\n",
    "PGAYVGLAAYDKALLLFNKNHDLFWEDIGQVFDGFHAINENEFDIFHSLGLFARTLDDIL\n",
    "FDSANEKTGRNALQSGKPIGKLVSYRTNFQESWLWKNVSIGRSGSRKLIEVVPDTTTSWY\n",
    "LTGFSIDPVYGLGIIKKPIQFTTVQPFYIVENLPYSIKRGEAVVLQFTLFNNLGAEYIAD\n",
    "VTLYNVANQTEFVGRPDTDLSYTKSVSVPPKVGVPISFLIKARKLGEMAVRVKASIMLGH\n",
    "ETDALEKVIRVMPESLAQPKMDTSFFCFDDYKNQTFPFNLDINKKADNGSKKIEFRLNPN\n",
    "LLTMVIKNLDNLLAVPTGCGEQNMVKFVPNILVLDYLYATGSKEQHLIDKATNLLRQGYQ\n",
    "NQMRYRQTDGSFGVWEKSGSSVFLTAFVATSMQTASKYMNDIDAAMVEKALDWLASKQHS\n",
    "SGRFDETGKVWHKDMQGGLRNGVALTSYVLTALLENDIAKVKHAVVIQNGMNYLSNQLAF\n",
    "INNPYDLSIATYAMMLNGHTMKKEALDKLIDMSISDNNKKERYWGTTNQIETTAYALLSF\n",
    "VMAEKYLDGIPVMNWLVNQRYVTGSFPRTQDTFVGLKALTKLAEKISPSRNDYTVQLKYK\n",
    "KNTKYFNINSEQIDVQNFLEIPEDTKKLEINVGGIGFGLLEVIYQFDLNLVNFEHRFKLD\n",
    "LEKQNTGSDYELRLRVCANYIPELTDSQSNMALIEVTLPSGYVVDRNPISEQTTVNPIQN\n",
    "MEIRYGGTSVVLYYYKMGTERNCFTVTAYRRFKVALKRPAYVVVYDYYNTNLNAIKVYEV\n",
    "DKQNVCEICEEEDCPAECKK'''.split())], 'SMILES of substrate': ['Negative' for _ in range(5)],\n",
    "            'Substrate (including stereochemistry)': ['Negative' for _ in range(5)],\n",
    "            'Type (mono, sesq, di, …)': ['Negative' for _ in range(5)]}\n",
    "negatives2 = pd.DataFrame({col: col_2_vals.get(col, ['Unknown' for _ in range(5)]) for col in df_main.columns})\n",
    "df_main = pd.concat((df_main, negatives2))"
   ]
  },
  {
   "cell_type": "markdown",
   "id": "39859b97",
   "metadata": {},
   "source": [
    "### Canonical SMILES"
   ]
  },
  {
   "cell_type": "code",
   "execution_count": 14,
   "id": "d20099fa",
   "metadata": {},
   "outputs": [],
   "source": [
    "from indigo import Indigo\n",
    "def _get_canonical_smiles(smiles: str, without_stereo: bool = True):\n",
    "    try:\n",
    "        if isinstance(smiles, float) or smiles in {'Unknown', 'Negative'}:\n",
    "            return smiles\n",
    "        indigo = Indigo()\n",
    "        smiles_canonical = []\n",
    "        mol = indigo.loadMolecule(smiles.strip())\n",
    "        if without_stereo:\n",
    "            mol.clearCisTrans()\n",
    "            mol.clearStereocenters()\n",
    "        return mol.canonicalSmiles()\n",
    "    except:\n",
    "        return np.nan\n",
    "\n",
    "df_main['SMILES_substrate_canonical_no_stereo'] = df_main['SMILES of substrate'].map(_get_canonical_smiles)"
   ]
  },
  {
   "cell_type": "code",
   "execution_count": 15,
   "id": "61259ecb",
   "metadata": {},
   "outputs": [],
   "source": [
    "df_main['SMILES_product_canonical_no_stereo'] = 'Unknown'\n",
    "bool_idx = df_main['SMILES of product (including stereochemistry)'].map(lambda x: isinstance(x, str) and 'k' not in x and 't' not in x)\n",
    "df_main.loc[bool_idx, 'SMILES_product_canonical_no_stereo'] = df_main.loc[bool_idx, 'SMILES of product (including stereochemistry)'].map(_get_canonical_smiles)"
   ]
  },
  {
   "cell_type": "markdown",
   "id": "fc119e09",
   "metadata": {},
   "source": [
    "### Ensuring the same number of carbons in substrate and product"
   ]
  },
  {
   "cell_type": "code",
   "execution_count": 16,
   "id": "b1a266e3",
   "metadata": {},
   "outputs": [],
   "source": [
    "def get_carbon_number(smiles):\n",
    "    m = Chem.MolFromSmiles(smiles)\n",
    "    patt= Chem.MolFromSmarts(\"[C]\")\n",
    "    pm = m.GetSubstructMatches(patt)\n",
    "    return len(pm)\n",
    "\n",
    "# original Jung's functions\n",
    "def check_if_c_equal_in_2lists(string_list1, string_list2):\n",
    "    ok_flag_list = []\n",
    "    \n",
    "    for s1, s2 in zip(string_list1, string_list2):\n",
    "        if isinstance(s1, float) or isinstance(s2, float):\n",
    "            ok_flag_list.append(False)\n",
    "        else:\n",
    "            c1, c2 = s1.lower().count('c'), s2.lower().count('c')\n",
    "            ok_flag_list.append(True if c1==c2 else False)\n",
    "    return np.array(ok_flag_list)\n",
    "\n",
    "def check_if_double_c_equal_in_2lists(string_list1, string_list2):\n",
    "    ok_flag_list = []\n",
    "    \n",
    "    for s1, s2 in zip(string_list1, string_list2):\n",
    "        if isinstance(s1, float) or isinstance(s2, float):\n",
    "            ok_flag_list.append(False)\n",
    "        else:\n",
    "            c1, c2 = s1.lower().count('c'), s2.lower().count('c')\n",
    "            ok_flag_list.append(True if c1==2*c2 else False)\n",
    "    return np.array(ok_flag_list)\n",
    "\n",
    "valid_equal_c_np = check_if_c_equal_in_2lists(df_main['SMILES_product_canonical_no_stereo'].values, df_main['SMILES_substrate_canonical_no_stereo'].values)\n",
    "df_main = df_main[valid_equal_c_np]"
   ]
  },
  {
   "cell_type": "markdown",
   "id": "0f2e8de6-9f01-45ea-96c9-4136aed79067",
   "metadata": {},
   "source": [
    "### Cleaning the sequences"
   ]
  },
  {
   "cell_type": "code",
   "execution_count": 17,
   "id": "3b89298c",
   "metadata": {},
   "outputs": [],
   "source": [
    "df_main = df_main.loc[df_main['Amino acid sequence'].map(lambda x: not isinstance(x, float))]\n",
    "df_main['Amino acid sequence'] = df_main['Amino acid sequence'].map(lambda x: x.replace('*', '').replace('\"', '').replace(\"'\", \"\"))\n",
    "df_main['Amino acid sequence'] = df_main['Amino acid sequence'].map(lambda x: ''.join(x.split()))"
   ]
  },
  {
   "cell_type": "code",
   "execution_count": 18,
   "id": "ff6f468a-b139-4521-881d-7581a857488d",
   "metadata": {},
   "outputs": [],
   "source": [
    "df_main.to_csv('../data/TPS-Nov19_2023_verified_all_reactions.csv', index=None)"
   ]
  },
  {
   "cell_type": "markdown",
   "id": "fa84b7a1",
   "metadata": {},
   "source": [
    "### Preserving only major reactions"
   ]
  },
  {
   "cell_type": "code",
   "execution_count": 19,
   "id": "73ac131c",
   "metadata": {},
   "outputs": [],
   "source": [
    "df_products_count = df_main.groupby(['Uniprot ID','SMILES_substrate_canonical_no_stereo'])['SMILES_product_canonical_no_stereo'].count().reset_index()"
   ]
  },
  {
   "cell_type": "code",
   "execution_count": 20,
   "id": "a2221211",
   "metadata": {},
   "outputs": [],
   "source": [
    "single_product_ids = set(df_products_count.loc[df_products_count['SMILES_product_canonical_no_stereo'] == 1, ['Uniprot ID', 'SMILES_substrate_canonical_no_stereo']].apply(lambda x: f'{x[\"Uniprot ID\"]}_{x[\"SMILES_substrate_canonical_no_stereo\"]}', axis=1).values)"
   ]
  },
  {
   "cell_type": "code",
   "execution_count": 21,
   "id": "7e714f0b",
   "metadata": {},
   "outputs": [],
   "source": [
    "df_main['Multi-product TPS reaction'] = 1\n",
    "df_main.loc[df_main[['Uniprot ID', 'SMILES_substrate_canonical_no_stereo']].apply(lambda x: f'{x[\"Uniprot ID\"]}_{x[\"SMILES_substrate_canonical_no_stereo\"]}', axis=1).isin(single_product_ids), 'Multi-product TPS reaction'] = 0"
   ]
  },
  {
   "cell_type": "code",
   "execution_count": 22,
   "id": "a8ee2be3",
   "metadata": {},
   "outputs": [],
   "source": [
    "major_product_data_bool_idx = ((df_main['Multi-product TPS reaction'] == 0) & (df_main['Product is major'].str.lower() != 'no')) | ((df_main['Multi-product TPS reaction'] == 1) & (df_main['Product is major'].str.lower() == 'yes'))"
   ]
  },
  {
   "cell_type": "code",
   "execution_count": 23,
   "id": "237c2cd6",
   "metadata": {},
   "outputs": [],
   "source": [
    "df_main.drop('Multi-product TPS reaction', axis=1, inplace=True)"
   ]
  },
  {
   "cell_type": "code",
   "execution_count": 24,
   "id": "24208e4f",
   "metadata": {},
   "outputs": [],
   "source": [
    "df_main['product_is_major'] = 0\n",
    "df_main.loc[major_product_data_bool_idx, 'product_is_major'] = 1"
   ]
  },
  {
   "cell_type": "code",
   "execution_count": 25,
   "id": "7a7acb2d",
   "metadata": {},
   "outputs": [],
   "source": [
    "id_2_substrate_counts = df_main.loc[~major_product_data_bool_idx].groupby('Uniprot ID')['SMILES_substrate_canonical_no_stereo'].nunique()"
   ]
  },
  {
   "cell_type": "code",
   "execution_count": 26,
   "id": "08661076",
   "metadata": {},
   "outputs": [],
   "source": [
    "id_with_single_substrate = set(id_2_substrate_counts[id_2_substrate_counts == 1].index)"
   ]
  },
  {
   "cell_type": "code",
   "execution_count": 27,
   "id": "3e2d9a8b",
   "metadata": {},
   "outputs": [],
   "source": [
    "df_main['is_substrate_predicted'] = 0\n",
    "df_main.loc[major_product_data_bool_idx | df_main['Uniprot ID'].map(lambda x: x in id_with_single_substrate), \n",
    "            'is_substrate_predicted'] = 1\n",
    "\n",
    "substrates_series = df_main.groupby('Uniprot ID')['SMILES_substrate_canonical_no_stereo'].agg(lambda x: tuple(sorted(set(x))))"
   ]
  },
  {
   "cell_type": "code",
   "execution_count": 28,
   "id": "8ee6dccd",
   "metadata": {},
   "outputs": [],
   "source": [
    "substrates_combo_counts = substrates_series.value_counts()\n",
    "supported_substrates = set()\n",
    "for substr_combo in substrates_combo_counts.index[substrates_combo_counts >= 10]:\n",
    "    for substr in substr_combo:\n",
    "        supported_substrates.add(substr)"
   ]
  },
  {
   "cell_type": "code",
   "execution_count": 29,
   "id": "74e93f31",
   "metadata": {},
   "outputs": [
    {
     "data": {
      "text/plain": [
       "0.96121266161391"
      ]
     },
     "execution_count": 29,
     "metadata": {},
     "output_type": "execute_result"
    }
   ],
   "source": [
    "(df_main['SMILES_substrate_canonical_no_stereo'].isin(supported_substrates)).sum()/len(df_main)"
   ]
  },
  {
   "cell_type": "code",
   "execution_count": 30,
   "id": "4d60cd8e",
   "metadata": {},
   "outputs": [],
   "source": [
    "product_counts = df_main.loc[df_main['SMILES_product_canonical_no_stereo'] != 'Unknown', \n",
    "                         'SMILES_product_canonical_no_stereo'].value_counts()\n",
    "sel_products = set(product_counts.index[product_counts >= 5])\n",
    "\n",
    "df_main['is_product_predicted'] = 0\n",
    "df_main.loc[df_main['product_is_major'] == 1, \n",
    "            'is_product_predicted'] = 1"
   ]
  },
  {
   "cell_type": "code",
   "execution_count": 31,
   "id": "dc393b05",
   "metadata": {},
   "outputs": [],
   "source": [
    "df_main = df_main[df_main['is_substrate_predicted'] == 1]"
   ]
  },
  {
   "cell_type": "code",
   "execution_count": 32,
   "id": "8e79fe65",
   "metadata": {},
   "outputs": [],
   "source": [
    "df_main['OK row flag'] = ~df_main[['Amino acid sequence', 'SMILES_substrate_canonical_no_stereo', 'SMILES_product_canonical_no_stereo']].isnull().any(axis=1).astype(int)\n",
    "df_main.loc[~df_main['Fragment'].isnull(), 'OK row flag'] = 0"
   ]
  },
  {
   "cell_type": "code",
   "execution_count": 33,
   "id": "2248a04a",
   "metadata": {},
   "outputs": [
    {
     "data": {
      "text/plain": [
       "(0, 29)"
      ]
     },
     "execution_count": 33,
     "metadata": {},
     "output_type": "execute_result"
    }
   ],
   "source": [
    "df_main = df_main[df_main['OK row flag'] == 1]\n",
    "df_main.shape"
   ]
  },
  {
   "cell_type": "code",
   "execution_count": 34,
   "id": "0c62506f",
   "metadata": {},
   "outputs": [],
   "source": [
    "df_main.to_csv('../data/TPS-Nov19_2023_verified.csv', index=None)"
   ]
  }
 ],
 "metadata": {
  "kernelspec": {
   "display_name": "Python 3 (ipykernel)",
   "language": "python",
   "name": "python3"
  },
  "language_info": {
   "codemirror_mode": {
    "name": "ipython",
    "version": 3
   },
   "file_extension": ".py",
   "mimetype": "text/x-python",
   "name": "python",
   "nbconvert_exporter": "python",
   "pygments_lexer": "ipython3",
   "version": "3.10.0"
  }
 },
 "nbformat": 4,
 "nbformat_minor": 5
}
